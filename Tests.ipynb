{
 "cells": [
  {
   "cell_type": "code",
   "execution_count": 6,
   "metadata": {},
   "outputs": [
    {
     "name": "stdout",
     "output_type": "stream",
     "text": [
      "857: How to Ensure AI Agents Are Accurate and Reliable — with Brooke Hopkins\n",
      "\n",
      "### **Output Format:**\n",
      "**Highlights:**\n",
      "- Koval is a simulation, evaluation, and monitoring platform for AI agents, starting with voice and chat agents, and applying lessons learned from Waymo's self-driving car testing.\n",
      "- The platform helps companies balance precision versus scalability by enabling comprehensive testing across many conversation flows while maintaining high signal quality.\n",
      "- Key conversational agent evaluation strategies include reference-free metrics, workflow validation, function call validation, and comparison to human performance benchmarks.\n",
      "- Companies are building redundancy into AI agents through techniques like fallback mechanisms, self-healing capabilities, and human backup options.\n",
      "- The development of reliable AI agents will likely follow a similar path to cloud infrastructure, building robust systems from inherently unreliable components through redundancy and engineering.\n",
      "\n",
      "**Resources:**\n",
      "- **Koval**: A simulation, evaluation, and monitoring platform for AI agents, providing tools for comprehensive testing and validation of conversational agents.\n",
      "- **Waymo**: A self-driving car project that has developed advanced simulation and testing techniques for autonomous vehicles, which are being applied to the development of AI agents.\n",
      "- **Y Combinator**: A startup accelerator that provides funding, resources, and support to early-stage companies, including Koval.\n",
      "- **Creativity Inc.**: A book by Ed Catmull that provides insights into building creative and innovative companies, which has informed Brooke's approach to building Koval.\n",
      "- **Kim Stanley Robinson's books**: Such as \"Ministry for the Future\", which provide a realistic and thought-provoking vision of the future, and can help readers think about the potential implications of emerging technologies like AI agents.\n"
     ]
    }
   ],
   "source": [
    "## Test full cycle\n",
    "\n",
    "from get_transcripts import get_podcast_data\n",
    "from LLM_processing import llm_processor\n",
    "\n",
    "podcast_obj= get_podcast_data()\n",
    "llm_obj = llm_processor()\n",
    "\n",
    "\n",
    "search_results = podcast_obj.search()\n",
    "if search_results:\n",
    "    all_text = podcast_obj.get_transcript(search_results[1].split('=')[1])\n",
    "    summary = llm_obj.summarize_podcast(all_text)\n",
    "    print(search_results[0])\n",
    "    print()\n",
    "    print(summary.choices[0].message.content)\n",
    "\n"
   ]
  },
  {
   "cell_type": "code",
   "execution_count": null,
   "metadata": {},
   "outputs": [],
   "source": []
  },
  {
   "cell_type": "code",
   "execution_count": 4,
   "metadata": {},
   "outputs": [
    {
     "name": "stdout",
     "output_type": "stream",
     "text": [
      "860\n",
      "861: From Pro Athlete to Data Engineer — Colleen Fotsch’s Inspiring Journey\n",
      "\n",
      "### **Output Format:**\n",
      "**Highlights:**\n",
      "- Colleen Fehrenbach, a competitive athlete, shares her journey from being a collegiate swimmer to a CrossFit athlete and eventually transitioning to a career in data analytics.\n",
      "- She talks about her experiences competing in the CrossFit Games, including her first year where she qualified for regionals and finished 491st in the world.\n",
      "- Colleen discusses her transition to data analytics, including her education in kinesiology and applied business data analytics, and her first job as a data analyst at Homie.\n",
      "- She shares her current role as a senior technical manager of marketing technologies and data platform at CHG Healthcare, where she works on data engineering and analytics.\n",
      "- Colleen also talks about her partnership with Proven, a fitness program founded by CrossFit champion Tia-Clair Toomey, to create a workout program called Proven Go, designed for busy professionals.\n",
      "\n",
      "**Resources:**\n",
      "- **DBT (Data Building Tool)**: A tool used for data modeling, allowing users to write SQL and create models to expose and surface data for stakeholders.\n",
      "- **Tableau**: A data visualization tool used to create dashboards and visualizations for stakeholders.\n",
      "- **Sigma**: A data visualization tool that sits on top of Snowflake, allowing users to build visualizations and dashboards.\n",
      "- **Proven Go**: A workout program designed for busy professionals, created in partnership with Colleen Fehrenbach and Proven.\n",
      "- **Fundamentals of Data Engineering**: A book by Joe Reis and Matt Turck, recommended by Colleen for those looking to get into data engineering.\n",
      "- **Colleen Fehrenbach's Instagram**: @colleenfch, where she shares her fitness journey and updates on her work in data analytics.\n",
      "- **Colleen Fehrenbach's LinkedIn**: Where she shares her professional work and experiences in data analytics.\n"
     ]
    }
   ],
   "source": [
    "from get_transcripts import get_podcast_data\n",
    "from LLM_processing import llm_processor\n",
    "from mongo_functions import database_object\n",
    "\n",
    "db = database_object()\n",
    "\n",
    "cursor = db.get_latest_podcast()\n",
    "latest_id = list(cursor)[0][\"epidose_Id\"]\n",
    "print(latest_id)\n",
    "\n",
    "podcast_obj= get_podcast_data(episode_id= int(latest_id))\n",
    "llm_obj = llm_processor()\n",
    "\n",
    "search_results = podcast_obj.search()\n",
    "if search_results:\n",
    "    all_text = podcast_obj.get_transcript_xml(search_results[1])\n",
    "    summary = llm_obj.summarize_podcast(all_text)\n",
    "    print(search_results[0])\n",
    "    print()\n",
    "    print(summary.choices[0].message.content)\n"
   ]
  },
  {
   "cell_type": "code",
   "execution_count": null,
   "metadata": {},
   "outputs": [],
   "source": []
  }
 ],
 "metadata": {
  "kernelspec": {
   "display_name": "podcast_summarizer",
   "language": "python",
   "name": "python3"
  },
  "language_info": {
   "codemirror_mode": {
    "name": "ipython",
    "version": 3
   },
   "file_extension": ".py",
   "mimetype": "text/x-python",
   "name": "python",
   "nbconvert_exporter": "python",
   "pygments_lexer": "ipython3",
   "version": "3.10.16"
  }
 },
 "nbformat": 4,
 "nbformat_minor": 2
}
